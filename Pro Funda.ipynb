{
 "cells": [
  {
   "cell_type": "markdown",
   "metadata": {},
   "source": [
    "## Project for Fundamentals of Data Analytics ##\n"
   ]
  },
  {
   "cell_type": "markdown",
   "metadata": {},
   "source": [
    "### An investigation into Box Plots and its uses ###"
   ]
  },
  {
   "cell_type": "markdown",
   "metadata": {},
   "source": [
    "\"Hi everyone. In this article I am going to discuss everything about box plots. <br>But before we get started you may ask why box plots? Why are they so special? You see, <br>box plot is a very powerful tool that we have for understanding our data. Using box <br>plots we can better understand our data by understanding its distribution, outliers, mean, <br>median and variance. Box plot packs all of this information about our data in a single <br>concise diagram. It allows us to understand the nature of our data at a single glance\n",
    "\n",
    "Every box-plot has two parts, a box and whiskers as you can see in the figure <br>above. That’s why it is also sometimes called the box and whiskers plot. The start of the <br>box i.e the lower quartile represents the 25% of our data set. So by looking at the diagram <br>we can instantly conclude that 25% of our data has a value less than 6.2, similarly <br>the end of the box i.e the upper quartile represents 75% of our data. So again from the diagram we can conclude that 75% of our data is less than 8.8. The bold black line in the box <br>represents the median value of our data. In our example the median lies at about 7.8. <br>The difference between the lower quartile and upper quartile is called the inter-quartile <br>range. So basically the entire red box represents the inter-quartile range.\"\n",
    "\n",
    "Taken from https://medium.com/dayem-siddiqui/understanding-and-interpreting-box-plots-d07aab9d1b6c\n"
   ]
  },
  {
   "cell_type": "markdown",
   "metadata": {},
   "source": [
    "#https://machinelearningmastery.com/data-visualization-methods-in-python\n",
    "\n",
    "Boxplots are useful to summarize the distribution of a data sample as an alternative to the histogram. They can help to quickly get an idea of the range of common and sensible values in the box and in the whisker respectively. Because we are not looking at the shape of the distribution explicitly, this method is often used when the data has an unknown or unusual distribution, such as non-Gaussian."
   ]
  },
  {
   "cell_type": "code",
   "execution_count": 2,
   "metadata": {},
   "outputs": [
    {
     "data": {
      "image/png": "[encoded data removed]",
      "text/plain": [
       "<Figure size 432x288 with 1 Axes>"
      ]
     },
     "metadata": {},
     "output_type": "display_data"
    }
   ],
   "source": [
    "#https://machinelearningmastery.com/data-visualization-methods-in-python\n",
    "\n",
    "# example of a box and whisker plot\n",
    "from numpy.random import seed\n",
    "from numpy.random import randn\n",
    "from matplotlib import pyplot\n",
    "# seed the random number generator\n",
    "seed(1)\n",
    "# random numbers drawn from a Gaussian distribution\n",
    "x = [randn(1000), 5 * randn(1000), 10 * randn(1000)]\n",
    "# create box and whisker plot\n",
    "pyplot.boxplot(x)\n",
    "# show line plot\n",
    "pyplot.show()\n",
    "    \n",
    "    "
   ]
  },
  {
   "cell_type": "code",
   "execution_count": null,
   "metadata": {},
   "outputs": [],
   "source": [
    "from numpy.random import seed\n",
    "from numpy.random import randn\n",
    "from matplotlib import pyplot\n",
    "seed(2)"
   ]
  },
  {
   "cell_type": "markdown",
   "metadata": {},
   "source": [
    "https://www.khanacademy.org/math/statistics-probability/summarizing-quantitative-data/box-whisker-plots/v/constructing-a-box-and-whisker-plot\n",
    "\n",
    "\n"
   ]
  },
  {
   "cell_type": "code",
   "execution_count": 4,
   "metadata": {},
   "outputs": [
    {
     "data": {
      "image/png": "[encoded data removed]",
      "text/plain": [
       "<Figure size 432x288 with 1 Axes>"
      ]
     },
     "metadata": {},
     "output_type": "display_data"
    }
   ],
   "source": [
    "import pandas as pd\n",
    "np.random.seed(1234)\n",
    "df = pd.DataFrame(np.random.randn(10,4),\n",
    "                 columns=['Col1', 'Col2', 'Col3', 'Col4'])\n",
    "boxplot = df.boxplot(column=['Col1', 'Col2', 'Col3'])"
   ]
  },
  {
   "cell_type": "code",
   "execution_count": 74,
   "metadata": {},
   "outputs": [
    {
     "data": {
      "text/plain": [
       "Index(['Country', 'Month', 'Total'], dtype='object')"
      ]
     },
     "execution_count": 74,
     "metadata": {},
     "output_type": "execute_result"
    }
   ],
   "source": [
    "#mocked up a quick dataset to see how it works\n",
    "import pandas as pd\n",
    "import numpy as np\n",
    "import matplotlib.pyplot as plt\n",
    "%matplotlib inline\n",
    "\n",
    "data = pd.DataFrame({'Country':['Sales IRE', 'Sales UK', 'Sales FR', 'Sales ES'],\n",
    "                     'Month':[7,4,3,10],\n",
    "                     'Total': [582,1003,896,1138]})\n",
    "\n",
    "data\n",
    "data.set_index('Month')\n",
    "data.columns\n",
    "\n"
   ]
  },
  {
   "cell_type": "code",
   "execution_count": 79,
   "metadata": {},
   "outputs": [
    {
     "data": {
      "text/plain": [
       "<matplotlib.axes._subplots.AxesSubplot at 0x114bf4ac8>"
      ]
     },
     "execution_count": 79,
     "metadata": {},
     "output_type": "execute_result"
    },
    {
     "data": {
      "image/png": "[encoded data removed]",
      "text/plain": [
       "<Figure size 432x288 with 1 Axes>"
      ]
     },
     "metadata": {},
     "output_type": "display_data"
    }
   ],
   "source": [
    "data.boxplot(column='Month', by='Total')"
   ]
  },
  {
   "cell_type": "code",
   "execution_count": 53,
   "metadata": {},
   "outputs": [
    {
     "data": {
      "text/plain": [
       "Index(['country', 'year', 'pop', 'continent', 'lifeExp', 'gdpPercap'], dtype='object')"
      ]
     },
     "execution_count": 53,
     "metadata": {},
     "output_type": "execute_result"
    }
   ],
   "source": [
    "import pandas as pd\n",
    "import numpy as np\n",
    "import matplotlib.pyplot as plt\n",
    "%matplotlib inline\n",
    "\n",
    "df =pd.read_csv(\"http://bit.ly/2cLzoxH\")\n",
    "df.columns\n",
    "\n",
    "\n"
   ]
  },
  {
   "cell_type": "code",
   "execution_count": 73,
   "metadata": {},
   "outputs": [
    {
     "data": {
      "text/plain": [
       "<matplotlib.axes._subplots.AxesSubplot at 0x1149d23c8>"
      ]
     },
     "execution_count": 73,
     "metadata": {},
     "output_type": "execute_result"
    },
    {
     "data": {
      "image/png": "[encoded data removed]",
      "text/plain": [
       "<Figure size 432x288 with 1 Axes>"
      ]
     },
     "metadata": {},
     "output_type": "display_data"
    }
   ],
   "source": [
    "df.boxplot(column='lifeExp', by='continent')"
   ]
  },
  {
   "cell_type": "code",
   "execution_count": 84,
   "metadata": {},
   "outputs": [
    {
     "ename": "SyntaxError",
     "evalue": "invalid character in identifier (<ipython-input-84-365480f09697>, line 5)",
     "output_type": "error",
     "traceback": [
      "\u001b[0;36m  File \u001b[0;32m\"<ipython-input-84-365480f09697>\"\u001b[0;36m, line \u001b[0;32m5\u001b[0m\n\u001b[0;31m    (Macintosh HD⁩ ▸ ⁨Users⁩ ▸ ⁨theamurtagh⁩ ▸ ⁨Desktop⁩_Death.csv)\u001b[0m\n\u001b[0m                 ^\u001b[0m\n\u001b[0;31mSyntaxError\u001b[0m\u001b[0;31m:\u001b[0m invalid character in identifier\n"
     ]
    }
   ],
   "source": [
    "from pylab import *\n",
    "from scipy.io import loadmat\n",
    "\n",
    "Med = pd.read_csv  \n",
    "\n",
    "# multiple box plots on one figure\n",
    "# Chickenpox cases by month\n",
    "#figure(1)\n",
    "# NYCdiseases['chickenPox'] is a matrix \n",
    "# with 30 rows (1 per year) and 12 columns (1 per month)\n",
    "#boxplot(NYCdiseases['chickenPox'])\n",
    "#labels = ('Jan', 'Feb', 'Mar', 'Apr', 'May', 'Jun', \n",
    "          #'Jul', 'Aug', 'Sep', 'Oct', 'Nov', 'Dec')\n",
    "#xticks(range(1,13),labels, rotation=15)\n",
    "#xlabel('Month')\n",
    "#ylabel('Chickenpox cases')\n",
    "#title('Chickenpox cases in NYC 1931-1971')"
   ]
  },
  {
   "cell_type": "code",
   "execution_count": null,
   "metadata": {},
   "outputs": [],
   "source": []
  }
 ],
 "metadata": {
  "kernelspec": {
   "display_name": "Python 3",
   "language": "python",
   "name": "python3"
  },
  "language_info": {
   "codemirror_mode": {
    "name": "ipython",
    "version": 3
   },
   "file_extension": ".py",
   "mimetype": "text/x-python",
   "name": "python",
   "nbconvert_exporter": "python",
   "pygments_lexer": "ipython3",
   "version": "3.6.5"
  }
 },
 "nbformat": 4,
 "nbformat_minor": 2
}
